{
 "cells": [
  {
   "cell_type": "markdown",
   "metadata": {},
   "source": [
    "# 연합인포맥스 전처리"
   ]
  },
  {
   "cell_type": "code",
   "execution_count": 4,
   "metadata": {},
   "outputs": [],
   "source": [
    "import pandas as pd\n",
    "import re\n",
    "from tqdm import tqdm\n",
    "\n",
    "df = pd.read_csv(\"naver(연합인포맥스).csv\", parse_dates=['time'])\n",
    "texts = df.loc[:, 'body']"
   ]
  },
  {
   "cell_type": "code",
   "execution_count": 5,
   "metadata": {},
   "outputs": [],
   "source": [
    "pre_texts = []\n",
    "del_list = []\n",
    "for idx, text in enumerate(texts):\n",
    "\n",
    "    cleaned_text = re.findall('\\).+\\(끝', str(text))\n",
    "    \n",
    "    if len(re.findall('[가-힣]', str(cleaned_text))) < 15:\n",
    "        cleaned_text = re.findall(' (.+),.*\\(끝', str(text))\n",
    "        cleaned_text = re.sub('\\(+[가-힣]{2,4}=연합인포맥스\\)+', \"\", str(cleaned_text))\n",
    "        cleaned_text = re.sub('[가-힣]{3} 기자 =', '', str(cleaned_text))\n",
    "        cleaned_text = re.sub('[가-힣]{3} 특파원', '', str(cleaned_text))\n",
    "        cleaned_text = re.sub('[a-zA-z0-9]+@.+', \"\", str(cleaned_text))\n",
    "        cleaned_text = re.sub(\"\\(끝\\).*\", '', cleaned_text)\n",
    "        cleaned_text = re.sub(\"\\(끝\", '', cleaned_text)\n",
    "        cleaned_text = re.sub(\"(\\\\\\\\')\", '', str(cleaned_text))\n",
    "        cleaned_text = re.sub(\"[☎=「~」─┬│┴┼↑※:<>◇\\-‘’`“”·▶▲,◆!■\\+\\'\\\"]\", '', str(cleaned_text))\n",
    "        cleaned_text = re.sub(\"(\\\\\\\\n)\", '', cleaned_text)\n",
    "        cleaned_text = re.sub(\"(\\\\\\\\r)\", '', cleaned_text)\n",
    "        cleaned_text = re.sub(\"(\\\\\\\\t)\", '', cleaned_text)\n",
    "        cleaned_text = re.sub(\"(\\\\\\\\)\", '', cleaned_text)\n",
    "        cleaned_text = re.sub('(https?.+)?[A-Za-z0-9]{1,}\\.[A-Za-z0-9]{1,10}\\.?[A-Za-z]{1,}\\.?[A-Za-z]{1,}', '', cleaned_text)\n",
    "        cleaned_text = re.sub(\"[ㅇ·ㆍ…→\\(\\)\\[\\]]\", ' ', str(cleaned_text))\n",
    "        cleaned_text = re.sub(\"[0-9](\\.)[0-9]\", '', str(cleaned_text))\n",
    "        cleaned_text = re.sub(\"(\\\\\\\\r)\", '', str(cleaned_text))\n",
    "        cleaned_text = re.sub(\"(xa0)\", '', str(cleaned_text))\n",
    "    else : \n",
    "        cleaned_text = re.sub('\\(+[가-힣]{2,4}=연합인포맥스\\)+', \"\", str(cleaned_text))\n",
    "        cleaned_text = re.sub('[가-힣]{3} 기자 =', '', str(cleaned_text))\n",
    "        cleaned_text = re.sub('[가-힣]{3} 특파원', '', str(cleaned_text))\n",
    "        cleaned_text = re.sub('[a-zA-z0-9]+@.+', \"\", str(cleaned_text))\n",
    "        cleaned_text = re.sub(\"\\(끝\\).*\", '', cleaned_text)\n",
    "        cleaned_text = re.sub(\"\\(끝\", '', cleaned_text)\n",
    "        cleaned_text = re.sub(\"(\\\\\\\\')\", '', str(cleaned_text))\n",
    "        cleaned_text = re.sub(\"[☎=「~」↓─┬│┴┼↑※:<>◇\\-‘’`“”·▶▲,◆!■\\+\\'\\\"]\", '', str(cleaned_text))\n",
    "        cleaned_text = re.sub(\"(\\\\\\\\n)\", '', cleaned_text)\n",
    "        cleaned_text = re.sub(\"(\\\\\\\\r)\", '', cleaned_text)\n",
    "        cleaned_text = re.sub(\"(\\\\\\\\t)\", '', cleaned_text)\n",
    "        cleaned_text = re.sub(\"(\\\\\\\\)\", '', cleaned_text)\n",
    "        cleaned_text = re.sub('(https?.+)?[A-Za-z0-9]{1,}\\.[A-Za-z0-9]{1,10}\\.?[A-Za-z]{1,}\\.?[A-Za-z]{1,}', '', cleaned_text)\n",
    "        cleaned_text = re.sub(\"[ㅇ·ㆍ…→\\(\\)\\[\\]]\", ' ', str(cleaned_text))\n",
    "        cleaned_text = re.sub(\"[0-9](\\.)[0-9]\", '', str(cleaned_text))\n",
    "        cleaned_text = re.sub(\"(\\\\\\\\r)\", '', str(cleaned_text))\n",
    "        cleaned_text = re.sub(\"(xa0)\", '', str(cleaned_text))\n",
    "\n",
    "    cleaned_text = cleaned_text.strip()\n",
    "    \n",
    "    if len(re.findall('[가-힣]', cleaned_text)) < 30 :\n",
    "        cleaned_text = ''\n",
    "            \n",
    "    pre_texts.append(cleaned_text)"
   ]
  },
  {
   "cell_type": "code",
   "execution_count": 6,
   "metadata": {},
   "outputs": [],
   "source": [
    "df['body'] = pre_texts"
   ]
  },
  {
   "cell_type": "code",
   "execution_count": 9,
   "metadata": {},
   "outputs": [],
   "source": [
    "idx_del = df[df['body'] == ''].index\n",
    "df = df.drop(idx_del)"
   ]
  },
  {
   "cell_type": "code",
   "execution_count": 10,
   "metadata": {},
   "outputs": [
    {
     "data": {
      "text/plain": [
       "Int64Index([    1,    15,    36,    49,    58,    63,    67,    68,    88,\n",
       "               90,\n",
       "            ...\n",
       "            64617, 64620, 64621, 64623, 64628, 64629, 64637, 64644, 64650,\n",
       "            64662],\n",
       "           dtype='int64', length=6946)"
      ]
     },
     "execution_count": 10,
     "metadata": {},
     "output_type": "execute_result"
    }
   ],
   "source": [
    "idx_del"
   ]
  },
  {
   "cell_type": "code",
   "execution_count": null,
   "metadata": {},
   "outputs": [],
   "source": [
    "import pandas as pd\n",
    "from tqdm import tqdm\n",
    "from ekonlpy.sentiment import MPCK\n",
    "\n",
    "mpck = MPCK()\n",
    "# 기사 문장별 split 후 ngramize\n",
    "\n",
    "ngram_list=[]\n",
    "for i in tqdm(range(len(df['body']))):\n",
    "    try:\n",
    "        sent_ngram=[]\n",
    "        sent=df['body'][i].split('.')\n",
    "        \n",
    "        for s in sent:\n",
    "            ngrams = mpck.ngramize(mpck.tokenize(s), keep_overlapping_ngram=False)\n",
    "            \n",
    "            if ngrams:\n",
    "                sent_ngram.append(ngrams)\n",
    "                \n",
    "        ngram_list.append(sent_ngram)\n",
    "        \n",
    "    except:\n",
    "        print(i)\n",
    "        \n",
    "df['ngram']=ngram_list"
   ]
  },
  {
   "cell_type": "code",
   "execution_count": 11,
   "metadata": {},
   "outputs": [],
   "source": [
    "df.to_csv('연합인포맥스_전처리.csv', encoding='utf-8')"
   ]
  }
 ],
 "metadata": {
  "kernelspec": {
   "display_name": "Python 3",
   "language": "python",
   "name": "python3"
  },
  "language_info": {
   "codemirror_mode": {
    "name": "ipython",
    "version": 3
   },
   "file_extension": ".py",
   "mimetype": "text/x-python",
   "name": "python",
   "nbconvert_exporter": "python",
   "pygments_lexer": "ipython3",
   "version": "3.6.10"
  }
 },
 "nbformat": 4,
 "nbformat_minor": 4
}
