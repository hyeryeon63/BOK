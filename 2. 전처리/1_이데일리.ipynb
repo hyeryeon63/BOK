{
 "cells": [
  {
   "cell_type": "markdown",
   "metadata": {},
   "source": [
    "# 이데일리 전처리"
   ]
  },
  {
   "cell_type": "code",
   "execution_count": 2,
   "metadata": {},
   "outputs": [],
   "source": [
    "import pandas as pd\n",
    "import re\n",
    "\n",
    "df = pd.read_csv(\"naver(이데일리).csv\", parse_dates=['time'])\n",
    "texts = df.loc[:, 'body']"
   ]
  },
  {
   "cell_type": "code",
   "execution_count": 14,
   "metadata": {},
   "outputs": [],
   "source": [
    "pre_texts = []\n",
    "\n",
    "for idx, text in enumerate(texts):\n",
    "    cleaned_text = re.sub('이데일리', '', str(text))\n",
    "    cleaned_text = re.sub('\\[.*] +', '', str(text))\n",
    "    cleaned_text = re.sub('Copyright.*', '', str(cleaned_text))\n",
    "    cleaned_text = re.sub('[a-zA-z0-9]+@.+', '', cleaned_text)\n",
    "    cleaned_text = re.sub(\"['\\n']\", '', str(cleaned_text))\n",
    "    cleaned_text = re.sub(\"\\\\\\\\n]\", '', str(cleaned_text))\n",
    "    cleaned_text = re.sub(\"[☎=「~」─┬│┴┼↑※:<>◇\\-‘’`“”·▶▲,◆!■\\+\\'\\\"]\", '', str(cleaned_text))\n",
    "    cleaned_text = re.sub(\"(\\\\\\\\n)\", '', cleaned_text)\n",
    "    cleaned_text = re.sub(\"(\\\\\\\\t)\", '', cleaned_text)\n",
    "    cleaned_text = re.sub(\"[0-9](\\.)[0-9]\", '', cleaned_text) #다시    \n",
    "    cleaned_text = re.sub('＜.*', \"\", str(cleaned_text))\n",
    "    cleaned_text = re.sub('☞.*', '', str(cleaned_text))\n",
    "    cleaned_text = re.sub(\"[·ㆍ…→\\(\\)\\[\\]]\", ' ', cleaned_text)\n",
    "    cleaned_text = re.sub('(https?.+)?[A-Za-z0-9]{1,}\\.[A-Za-z0-9]{1,10}\\.?[A-Za-z]{1,}\\.?[A-Za-z]{1,}', '', cleaned_text)\n",
    "    cleaned_text = cleaned_text.strip()\n",
    "    \n",
    "    if len(re.findall('[가-힣]', cleaned_text)) < 30 :\n",
    "        cleaned_text = ''\n",
    "\n",
    "    pre_texts.append(cleaned_text)"
   ]
  },
  {
   "cell_type": "code",
   "execution_count": 15,
   "metadata": {
    "scrolled": true
   },
   "outputs": [],
   "source": [
    "df['body']= pre_texts"
   ]
  },
  {
   "cell_type": "code",
   "execution_count": 16,
   "metadata": {},
   "outputs": [],
   "source": [
    "idx_del = df[df['body'] == ''].index\n",
    "df = df.drop(idx_del)"
   ]
  },
  {
   "cell_type": "code",
   "execution_count": 17,
   "metadata": {},
   "outputs": [
    {
     "data": {
      "text/plain": [
       "Int64Index([     2,      9,     22,     24,     44,     46,     48,     54,\n",
       "                67,     73,\n",
       "            ...\n",
       "            101865, 101880, 101883, 101897, 101919, 101924, 101928, 101948,\n",
       "            101963, 101971],\n",
       "           dtype='int64', length=7247)"
      ]
     },
     "execution_count": 17,
     "metadata": {},
     "output_type": "execute_result"
    }
   ],
   "source": [
    "idx_del"
   ]
  },
  {
   "cell_type": "code",
   "execution_count": 7,
   "metadata": {},
   "outputs": [
    {
     "name": "stderr",
     "output_type": "stream",
     "text": [
      "100%|██████████████████████████████████████████████████████████████████████████| 102005/102005 [57:00<00:00, 29.82it/s]\n"
     ]
    }
   ],
   "source": [
    "import pandas as pd\n",
    "from tqdm import tqdm\n",
    "from ekonlpy.sentiment import MPCK\n",
    "\n",
    "mpck = MPCK()\n",
    "# 기사 문장별 split 후 ngramize\n",
    "\n",
    "ngram_list=[]\n",
    "for i in tqdm(range(len(df['body']))):\n",
    "    try:\n",
    "        sent_ngram=[]\n",
    "        sent=df['body'][i].split('.')\n",
    "        \n",
    "        for s in sent:\n",
    "            ngrams = mpck.ngramize(mpck.tokenize(s), keep_overlapping_ngram=False)\n",
    "            \n",
    "            if ngrams:\n",
    "                sent_ngram.append(ngrams)\n",
    "                \n",
    "        ngram_list.append(sent_ngram)\n",
    "        \n",
    "    except:\n",
    "        print(i)\n",
    "        \n",
    "df['ngram']=ngram_list"
   ]
  },
  {
   "cell_type": "code",
   "execution_count": 18,
   "metadata": {},
   "outputs": [],
   "source": [
    "df.to_csv('이데일리_전처리.csv', encoding='utf-8')"
   ]
  }
 ],
 "metadata": {
  "kernelspec": {
   "display_name": "Python 3",
   "language": "python",
   "name": "python3"
  },
  "language_info": {
   "codemirror_mode": {
    "name": "ipython",
    "version": 3
   },
   "file_extension": ".py",
   "mimetype": "text/x-python",
   "name": "python",
   "nbconvert_exporter": "python",
   "pygments_lexer": "ipython3",
   "version": "3.6.10"
  }
 },
 "nbformat": 4,
 "nbformat_minor": 4
}
