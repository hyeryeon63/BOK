{
 "cells": [
  {
   "cell_type": "markdown",
   "metadata": {},
   "source": [
    "# 뉴스 데이터 합치기"
   ]
  },
  {
   "cell_type": "code",
   "execution_count": 1,
   "metadata": {},
   "outputs": [],
   "source": [
    "# 날짜 형식 datetime으로 바꾸기"
   ]
  },
  {
   "cell_type": "code",
   "execution_count": 21,
   "metadata": {},
   "outputs": [],
   "source": [
    "import pandas as pd\n",
    "import datetime"
   ]
  },
  {
   "cell_type": "code",
   "execution_count": 22,
   "metadata": {},
   "outputs": [],
   "source": [
    "df1 = pd.read_csv('연합뉴스_전처리(1).csv')\n",
    "\n",
    "t = df1['time']\n",
    "df1['time'] = [datetime.datetime.strptime(i, '%Y-%m-%d') for i in t]"
   ]
  },
  {
   "cell_type": "code",
   "execution_count": 23,
   "metadata": {},
   "outputs": [],
   "source": [
    "df2 = pd.read_csv('연합인포맥스_전처리(1).csv')\n",
    "\n",
    "r = df2['time']\n",
    "df2['time'] = [datetime.datetime.strptime(i, '%Y-%m-%d') for i in r]"
   ]
  },
  {
   "cell_type": "code",
   "execution_count": 31,
   "metadata": {},
   "outputs": [],
   "source": [
    "df3 = pd.read_csv('이데일리_전처리.csv')\n",
    "\n",
    "e = df3['time']\n",
    "df3['time'] = [i.strip()[:-1].replace('.', '-') for i in e]\n",
    "df3['time'] = pd.to_datetime(df3['time'], format='%Y-%m-%d', errors='raise')\n",
    "ind_del = df3[df3['time'] == ''].index\n",
    "df3 = df3.drop(ind_del)"
   ]
  },
  {
   "cell_type": "code",
   "execution_count": null,
   "metadata": {},
   "outputs": [],
   "source": [
    "# 3사 뉴스 합치기"
   ]
  },
  {
   "cell_type": "code",
   "execution_count": 33,
   "metadata": {},
   "outputs": [
    {
     "data": {
      "text/html": [
       "<div>\n",
       "<style scoped>\n",
       "    .dataframe tbody tr th:only-of-type {\n",
       "        vertical-align: middle;\n",
       "    }\n",
       "\n",
       "    .dataframe tbody tr th {\n",
       "        vertical-align: top;\n",
       "    }\n",
       "\n",
       "    .dataframe thead th {\n",
       "        text-align: right;\n",
       "    }\n",
       "</style>\n",
       "<table border=\"1\" class=\"dataframe\">\n",
       "  <thead>\n",
       "    <tr style=\"text-align: right;\">\n",
       "      <th></th>\n",
       "      <th>time</th>\n",
       "      <th>body</th>\n",
       "    </tr>\n",
       "  </thead>\n",
       "  <tbody>\n",
       "    <tr>\n",
       "      <th>0</th>\n",
       "      <td>2005-07-01</td>\n",
       "      <td>미국 연방준비제도이사회 FRB 가 연방기금금리 금리 목표치를 5%로 25bp 5%p...</td>\n",
       "    </tr>\n",
       "    <tr>\n",
       "      <th>1</th>\n",
       "      <td>2005-07-01</td>\n",
       "      <td>30일 유럽증시 주요 지수들이 보합권에서 혼조세를 보이며 마감했다. 영국과 독일이 ...</td>\n",
       "    </tr>\n",
       "    <tr>\n",
       "      <th>2</th>\n",
       "      <td>2008-03-07</td>\n",
       "      <td>한국은행이 7일 금융통화위원회를 열어 기준금리를 5%로 결정했다. 이는 기존 콜금리...</td>\n",
       "    </tr>\n",
       "    <tr>\n",
       "      <th>3</th>\n",
       "      <td>2008-02-14</td>\n",
       "      <td>14일 현지시간  뉴욕 주식시장이 개장 전 거래에서 상승세를 타고 있다.  주간 신...</td>\n",
       "    </tr>\n",
       "    <tr>\n",
       "      <th>4</th>\n",
       "      <td>2008-01-31</td>\n",
       "      <td>31일 채권 금리가 사흘만에 하락했다.  미국이 예상대로 50bp의 기준금리 인하를...</td>\n",
       "    </tr>\n",
       "    <tr>\n",
       "      <th>...</th>\n",
       "      <td>...</td>\n",
       "      <td>...</td>\n",
       "    </tr>\n",
       "    <tr>\n",
       "      <th>59815</th>\n",
       "      <td>2017-03-02</td>\n",
       "      <td>미국 연방준비제도 연준 Fed  내에서 강경 비둘기파로 분류되는 라엘 브레이너드 이...</td>\n",
       "    </tr>\n",
       "    <tr>\n",
       "      <th>59816</th>\n",
       "      <td>2017-03-02</td>\n",
       "      <td>국채선물이 3월 미국 기준금리 인상 우려가 확대됨에 따라 장기물을 중심으로 급락 출...</td>\n",
       "    </tr>\n",
       "    <tr>\n",
       "      <th>59817</th>\n",
       "      <td>2017-03-02</td>\n",
       "      <td>국제경제부  1일 미국시간  뉴욕 금융시장에서 주요 주가지수들은 도널드 트럼프 미국...</td>\n",
       "    </tr>\n",
       "    <tr>\n",
       "      <th>59818</th>\n",
       "      <td>2017-03-01</td>\n",
       "      <td>달러엔은 도널드 트럼프 미국 대통령의 의회 연설이 시작되자 차익매물이 나오며 상승폭...</td>\n",
       "    </tr>\n",
       "    <tr>\n",
       "      <th>59819</th>\n",
       "      <td>2017-03-02</td>\n",
       "      <td>캐나다 중앙은행은 기준금리를 %에서 동결했다. 은행은 1일 캐나다 경제에 실질적이고...</td>\n",
       "    </tr>\n",
       "  </tbody>\n",
       "</table>\n",
       "<p>225927 rows × 2 columns</p>\n",
       "</div>"
      ],
      "text/plain": [
       "            time                                               body\n",
       "0     2005-07-01  미국 연방준비제도이사회 FRB 가 연방기금금리 금리 목표치를 5%로 25bp 5%p...\n",
       "1     2005-07-01  30일 유럽증시 주요 지수들이 보합권에서 혼조세를 보이며 마감했다. 영국과 독일이 ...\n",
       "2     2008-03-07  한국은행이 7일 금융통화위원회를 열어 기준금리를 5%로 결정했다. 이는 기존 콜금리...\n",
       "3     2008-02-14  14일 현지시간  뉴욕 주식시장이 개장 전 거래에서 상승세를 타고 있다.  주간 신...\n",
       "4     2008-01-31  31일 채권 금리가 사흘만에 하락했다.  미국이 예상대로 50bp의 기준금리 인하를...\n",
       "...          ...                                                ...\n",
       "59815 2017-03-02  미국 연방준비제도 연준 Fed  내에서 강경 비둘기파로 분류되는 라엘 브레이너드 이...\n",
       "59816 2017-03-02  국채선물이 3월 미국 기준금리 인상 우려가 확대됨에 따라 장기물을 중심으로 급락 출...\n",
       "59817 2017-03-02  국제경제부  1일 미국시간  뉴욕 금융시장에서 주요 주가지수들은 도널드 트럼프 미국...\n",
       "59818 2017-03-01  달러엔은 도널드 트럼프 미국 대통령의 의회 연설이 시작되자 차익매물이 나오며 상승폭...\n",
       "59819 2017-03-02  캐나다 중앙은행은 기준금리를 %에서 동결했다. 은행은 1일 캐나다 경제에 실질적이고...\n",
       "\n",
       "[225927 rows x 2 columns]"
      ]
     },
     "execution_count": 33,
     "metadata": {},
     "output_type": "execute_result"
    }
   ],
   "source": [
    "df4 = pd.concat([df1,df2])\n",
    "df = pd.concat([df3, df4])\n",
    "df = df[['time', 'body']]\n",
    "df"
   ]
  },
  {
   "cell_type": "code",
   "execution_count": 94,
   "metadata": {},
   "outputs": [],
   "source": [
    "df = df.groupby('time').sum()\n",
    "df.to_csv('news_pre.csv')\n",
    "df.to_pickle('news_pre.pkl')"
   ]
  },
  {
   "cell_type": "code",
   "execution_count": null,
   "metadata": {},
   "outputs": [],
   "source": [
    "# 의사록 + 뉴스 + 채권분석리포트 합치기"
   ]
  },
  {
   "cell_type": "code",
   "execution_count": 65,
   "metadata": {},
   "outputs": [],
   "source": [
    "bond = pd.read_csv('bond_data.csv')"
   ]
  },
  {
   "cell_type": "code",
   "execution_count": 66,
   "metadata": {},
   "outputs": [],
   "source": [
    "# 날짜 형식 맞추기\n",
    "e = bond['date']\n",
    "\n",
    "time_list = []\n",
    "for i in e:\n",
    "    y, m, d = i.split('.')\n",
    "    full_y = '20'+y\n",
    "    time = full_y + '-'+ m + '-' + d\n",
    "    time_list.append(time)\n",
    "bond['date'] = time\n",
    "\n",
    "bond['date'] = pd.to_datetime(bond['date'], format='%Y-%m-%d', errors='raise')"
   ]
  },
  {
   "cell_type": "code",
   "execution_count": 68,
   "metadata": {},
   "outputs": [],
   "source": [
    "bond.rename(columns={\"date\": \"time\", \"text\": \"body\"}, inplace = True)\n",
    "bond = bond[['time', 'body']]"
   ]
  },
  {
   "cell_type": "code",
   "execution_count": 69,
   "metadata": {
    "scrolled": true
   },
   "outputs": [],
   "source": [
    "mpb = pd.read_pickle('mpb_all.pkl')\n",
    "mpb['date'] = pd.to_datetime(mpb['date'], format='%Y-%m-%d', errors='raise')\n",
    "mpb.rename(columns={\"date\": \"time\", \"body\": \"body\"}, inplace = True)\n",
    "mpb = mpb[['time', 'body']]"
   ]
  },
  {
   "cell_type": "code",
   "execution_count": 71,
   "metadata": {},
   "outputs": [
    {
     "data": {
      "text/html": [
       "<div>\n",
       "<style scoped>\n",
       "    .dataframe tbody tr th:only-of-type {\n",
       "        vertical-align: middle;\n",
       "    }\n",
       "\n",
       "    .dataframe tbody tr th {\n",
       "        vertical-align: top;\n",
       "    }\n",
       "\n",
       "    .dataframe thead th {\n",
       "        text-align: right;\n",
       "    }\n",
       "</style>\n",
       "<table border=\"1\" class=\"dataframe\">\n",
       "  <thead>\n",
       "    <tr style=\"text-align: right;\">\n",
       "      <th></th>\n",
       "      <th>time</th>\n",
       "      <th>body</th>\n",
       "    </tr>\n",
       "  </thead>\n",
       "  <tbody>\n",
       "    <tr>\n",
       "      <th>0</th>\n",
       "      <td>2005-07-01</td>\n",
       "      <td>미국 연방준비제도이사회 FRB 가 연방기금금리 금리 목표치를 5%로 25bp 5%p...</td>\n",
       "    </tr>\n",
       "    <tr>\n",
       "      <th>1</th>\n",
       "      <td>2005-07-01</td>\n",
       "      <td>30일 유럽증시 주요 지수들이 보합권에서 혼조세를 보이며 마감했다. 영국과 독일이 ...</td>\n",
       "    </tr>\n",
       "    <tr>\n",
       "      <th>2</th>\n",
       "      <td>2008-03-07</td>\n",
       "      <td>한국은행이 7일 금융통화위원회를 열어 기준금리를 5%로 결정했다. 이는 기존 콜금리...</td>\n",
       "    </tr>\n",
       "    <tr>\n",
       "      <th>3</th>\n",
       "      <td>2008-02-14</td>\n",
       "      <td>14일 현지시간  뉴욕 주식시장이 개장 전 거래에서 상승세를 타고 있다.  주간 신...</td>\n",
       "    </tr>\n",
       "    <tr>\n",
       "      <th>4</th>\n",
       "      <td>2008-01-31</td>\n",
       "      <td>31일 채권 금리가 사흘만에 하락했다.  미국이 예상대로 50bp의 기준금리 인하를...</td>\n",
       "    </tr>\n",
       "    <tr>\n",
       "      <th>...</th>\n",
       "      <td>...</td>\n",
       "      <td>...</td>\n",
       "    </tr>\n",
       "    <tr>\n",
       "      <th>2775</th>\n",
       "      <td>2008-04-01</td>\n",
       "      <td>Microsoft Word - FixedIncome_0428.doc         ...</td>\n",
       "    </tr>\n",
       "    <tr>\n",
       "      <th>2776</th>\n",
       "      <td>2008-04-01</td>\n",
       "      <td>Microsoft Word - Fixedincome0414.doc          ...</td>\n",
       "    </tr>\n",
       "    <tr>\n",
       "      <th>2777</th>\n",
       "      <td>2008-04-01</td>\n",
       "      <td>Microsoft Word - 0407.doc   Fixed Income Weekl...</td>\n",
       "    </tr>\n",
       "    <tr>\n",
       "      <th>2778</th>\n",
       "      <td>2008-04-01</td>\n",
       "      <td>Microsoft Word - 0407.doc   Fixed Income Weekl...</td>\n",
       "    </tr>\n",
       "    <tr>\n",
       "      <th>2779</th>\n",
       "      <td>2008-04-01</td>\n",
       "      <td>\"대외 균형과 안정적 성장 기반을 유지  하기 위해 대외 불안 요인에 대한 면밀한 ...</td>\n",
       "    </tr>\n",
       "  </tbody>\n",
       "</table>\n",
       "<p>228830 rows × 2 columns</p>\n",
       "</div>"
      ],
      "text/plain": [
       "           time                                               body\n",
       "0    2005-07-01  미국 연방준비제도이사회 FRB 가 연방기금금리 금리 목표치를 5%로 25bp 5%p...\n",
       "1    2005-07-01  30일 유럽증시 주요 지수들이 보합권에서 혼조세를 보이며 마감했다. 영국과 독일이 ...\n",
       "2    2008-03-07  한국은행이 7일 금융통화위원회를 열어 기준금리를 5%로 결정했다. 이는 기존 콜금리...\n",
       "3    2008-02-14  14일 현지시간  뉴욕 주식시장이 개장 전 거래에서 상승세를 타고 있다.  주간 신...\n",
       "4    2008-01-31  31일 채권 금리가 사흘만에 하락했다.  미국이 예상대로 50bp의 기준금리 인하를...\n",
       "...         ...                                                ...\n",
       "2775 2008-04-01  Microsoft Word - FixedIncome_0428.doc         ...\n",
       "2776 2008-04-01  Microsoft Word - Fixedincome0414.doc          ...\n",
       "2777 2008-04-01  Microsoft Word - 0407.doc   Fixed Income Weekl...\n",
       "2778 2008-04-01  Microsoft Word - 0407.doc   Fixed Income Weekl...\n",
       "2779 2008-04-01  \"대외 균형과 안정적 성장 기반을 유지  하기 위해 대외 불안 요인에 대한 면밀한 ...\n",
       "\n",
       "[228830 rows x 2 columns]"
      ]
     },
     "execution_count": 71,
     "metadata": {},
     "output_type": "execute_result"
    }
   ],
   "source": [
    "mpb_bond = pd.concat([mpb,bond])\n",
    "concat = pd.concat([df, mpb_bond])\n",
    "concat = concat[['time', 'body']]\n",
    "concat"
   ]
  },
  {
   "cell_type": "code",
   "execution_count": 72,
   "metadata": {},
   "outputs": [],
   "source": [
    "concat = concat.groupby('time').sum()"
   ]
  },
  {
   "cell_type": "code",
   "execution_count": 77,
   "metadata": {},
   "outputs": [],
   "source": [
    "concat.to_pickle('concat.pkl')"
   ]
  },
  {
   "cell_type": "markdown",
   "metadata": {},
   "source": [
    "# Concat 파일 불러와서 n-gram"
   ]
  },
  {
   "cell_type": "code",
   "execution_count": 74,
   "metadata": {},
   "outputs": [],
   "source": [
    "import pandas as pd\n",
    "df = pd.read_pickle('concat.pkl')"
   ]
  },
  {
   "cell_type": "code",
   "execution_count": 6,
   "metadata": {},
   "outputs": [
    {
     "name": "stderr",
     "output_type": "stream",
     "text": [
      "100%|████████████████████████████████████████████████████████████████████████████| 4611/4611 [1:31:57<00:00,  1.20s/it]\n",
      "C:\\Users\\hyeryeon\\.conda\\envs\\python36\\lib\\site-packages\\ipykernel_launcher.py:19: SettingWithCopyWarning: \n",
      "A value is trying to be set on a copy of a slice from a DataFrame.\n",
      "Try using .loc[row_indexer,col_indexer] = value instead\n",
      "\n",
      "See the caveats in the documentation: https://pandas.pydata.org/pandas-docs/stable/user_guide/indexing.html#returning-a-view-versus-a-copy\n"
     ]
    }
   ],
   "source": [
    "import pandas as pd\n",
    "from tqdm import tqdm\n",
    "from ekonlpy.sentiment import MPCK\n",
    "mpck = MPCK()\n",
    "# 기사 문장별 split 후 ngramize\n",
    "ngram_list=[]\n",
    "for i in tqdm(range(len(df['body']))):\n",
    "    try:\n",
    "        sent_ngram=[]\n",
    "        sent=df['body'][i].split('.')\n",
    "        for s in sent:\n",
    "            ngrams = mpck.ngramize(mpck.tokenize(s),keep_overlapping_ngram=False)\n",
    "            if ngrams:\n",
    "                sent_ngram.append(ngrams)\n",
    "        ngram_list.append(sent_ngram)\n",
    "    except:\n",
    "        print(i)\n",
    "        \n",
    "df['ngram']=ngram_list"
   ]
  },
  {
   "cell_type": "code",
   "execution_count": 25,
   "metadata": {},
   "outputs": [],
   "source": [
    "df['ngram']=ngram_list"
   ]
  },
  {
   "cell_type": "code",
   "execution_count": 8,
   "metadata": {},
   "outputs": [],
   "source": [
    "df.to_csv('concat_ngram.csv')\n",
    "df.to_pickle('concat_ngram.pkl')"
   ]
  }
 ],
 "metadata": {
  "kernelspec": {
   "display_name": "Python 3",
   "language": "python",
   "name": "python3"
  },
  "language_info": {
   "codemirror_mode": {
    "name": "ipython",
    "version": 3
   },
   "file_extension": ".py",
   "mimetype": "text/x-python",
   "name": "python",
   "nbconvert_exporter": "python",
   "pygments_lexer": "ipython3",
   "version": "3.6.10"
  }
 },
 "nbformat": 4,
 "nbformat_minor": 4
}
